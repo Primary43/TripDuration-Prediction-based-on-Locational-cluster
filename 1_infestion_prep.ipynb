{
 "cells": [
  {
   "cell_type": "code",
   "execution_count": 0,
   "metadata": {
    "application/vnd.databricks.v1+cell": {
     "cellMetadata": {
      "byteLimit": 2048000,
      "rowLimit": 10000
     },
     "inputWidgets": {},
     "nuid": "497d02af-5e3c-4454-bfcb-271db1bcb28f",
     "showTitle": false,
     "title": ""
    }
   },
   "outputs": [
    {
     "output_type": "stream",
     "name": "stdout",
     "output_type": "stream",
     "text": [
      "\u001B[43mNote: you may need to restart the kernel using dbutils.library.restartPython() to use updated packages.\u001B[0m\nCollecting pyspark==3.2.0\n  Downloading pyspark-3.2.0.tar.gz (281.3 MB)\n     ━━━━━━━━━━━━━━━━━━━━━━━━━━━━━━━━━━━━━━━ 281.3/281.3 MB 1.8 MB/s eta 0:00:00\n  Preparing metadata (setup.py): started\n  Preparing metadata (setup.py): finished with status 'done'\nCollecting py4j==0.10.9.2\n  Downloading py4j-0.10.9.2-py2.py3-none-any.whl (198 kB)\n     ━━━━━━━━━━━━━━━━━━━━━━━━━━━━━━━━━━━━━━ 198.8/198.8 kB 34.9 MB/s eta 0:00:00\nBuilding wheels for collected packages: pyspark\n  Building wheel for pyspark (setup.py): started\n  Building wheel for pyspark (setup.py): finished with status 'done'\n  Created wheel for pyspark: filename=pyspark-3.2.0-py2.py3-none-any.whl size=281805899 sha256=1afb9184b862718bfd03be1e6982767b20d320f7f44a03857ee2d47a954427fd\n  Stored in directory: /root/.cache/pip/wheels/3d/f5/13/04a82efe56a577a8f1509e75ffd4253dc31ee18bae0ff701ea\nSuccessfully built pyspark\nInstalling collected packages: py4j, pyspark\nSuccessfully installed py4j-0.10.9.2 pyspark-3.2.0\n\u001B[43mNote: you may need to restart the kernel using dbutils.library.restartPython() to use updated packages.\u001B[0m\n\u001B[43mNote: you may need to restart the kernel using dbutils.library.restartPython() to use updated packages.\u001B[0m\nCollecting geopandas\n  Downloading geopandas-0.14.2-py3-none-any.whl (1.1 MB)\n     ━━━━━━━━━━━━━━━━━━━━━━━━━━━━━━━━━━━━━━━━ 1.1/1.1 MB 17.9 MB/s eta 0:00:00\nCollecting fiona>=1.8.21\n  Downloading fiona-1.9.5-cp310-cp310-manylinux2014_x86_64.whl (15.7 MB)\n     ━━━━━━━━━━━━━━━━━━━━━━━━━━━━━━━━━━━━━━━━ 15.7/15.7 MB 59.3 MB/s eta 0:00:00\nRequirement already satisfied: pandas>=1.4.0 in /databricks/python3/lib/python3.10/site-packages (from geopandas) (1.5.3)\nCollecting pyproj>=3.3.0\n  Downloading pyproj-3.6.1-cp310-cp310-manylinux_2_17_x86_64.manylinux2014_x86_64.whl (8.3 MB)\n     ━━━━━━━━━━━━━━━━━━━━━━━━━━━━━━━━━━━━━━━━ 8.3/8.3 MB 86.5 MB/s eta 0:00:00\nRequirement already satisfied: packaging in /databricks/python3/lib/python3.10/site-packages (from geopandas) (22.0)\nCollecting shapely>=1.8.0\n  Downloading shapely-2.0.2-cp310-cp310-manylinux_2_17_x86_64.manylinux2014_x86_64.whl (2.5 MB)\n     ━━━━━━━━━━━━━━━━━━━━━━━━━━━━━━━━━━━━━━━━ 2.5/2.5 MB 57.3 MB/s eta 0:00:00\nRequirement already satisfied: click~=8.0 in /databricks/python3/lib/python3.10/site-packages (from fiona>=1.8.21->geopandas) (8.0.4)\nCollecting cligj>=0.5\n  Downloading cligj-0.7.2-py3-none-any.whl (7.1 kB)\nRequirement already satisfied: certifi in /databricks/python3/lib/python3.10/site-packages (from fiona>=1.8.21->geopandas) (2022.12.7)\nCollecting click-plugins>=1.0\n  Downloading click_plugins-1.1.1-py2.py3-none-any.whl (7.5 kB)\nRequirement already satisfied: attrs>=19.2.0 in /databricks/python3/lib/python3.10/site-packages (from fiona>=1.8.21->geopandas) (22.1.0)\nRequirement already satisfied: six in /usr/lib/python3/dist-packages (from fiona>=1.8.21->geopandas) (1.16.0)\nRequirement already satisfied: setuptools in /databricks/python3/lib/python3.10/site-packages (from fiona>=1.8.21->geopandas) (65.6.3)\nRequirement already satisfied: python-dateutil>=2.8.1 in /databricks/python3/lib/python3.10/site-packages (from pandas>=1.4.0->geopandas) (2.8.2)\nRequirement already satisfied: numpy>=1.21.0 in /databricks/python3/lib/python3.10/site-packages (from pandas>=1.4.0->geopandas) (1.23.5)\nRequirement already satisfied: pytz>=2020.1 in /databricks/python3/lib/python3.10/site-packages (from pandas>=1.4.0->geopandas) (2022.7)\nInstalling collected packages: shapely, pyproj, cligj, click-plugins, fiona, geopandas\nSuccessfully installed click-plugins-1.1.1 cligj-0.7.2 fiona-1.9.5 geopandas-0.14.2 pyproj-3.6.1 shapely-2.0.2\n\u001B[43mNote: you may need to restart the kernel using dbutils.library.restartPython() to use updated packages.\u001B[0m\n"
     ]
    }
   ],
   "source": [
    "%pip install pyspark==3.2.0\n",
    "%pip install geopandas"
   ]
  },
  {
   "cell_type": "code",
   "execution_count": 0,
   "metadata": {
    "application/vnd.databricks.v1+cell": {
     "cellMetadata": {
      "byteLimit": 2048000,
      "rowLimit": 10000
     },
     "inputWidgets": {},
     "nuid": "809340ed-4302-48fb-a5b8-58e74a4d6f4f",
     "showTitle": false,
     "title": ""
    }
   },
   "outputs": [],
   "source": [
    "dbutils.library.restartPython()"
   ]
  },
  {
   "cell_type": "markdown",
   "metadata": {
    "application/vnd.databricks.v1+cell": {
     "cellMetadata": {
      "byteLimit": 2048000,
      "rowLimit": 10000
     },
     "inputWidgets": {},
     "nuid": "5f21c42c-36ba-419c-8f59-6454b0076063",
     "showTitle": false,
     "title": ""
    }
   },
   "source": [
    "## 1.1 Import data and Inspect\n",
    "*    missing value/ duplication/ consistency\n",
    "*    change data type for numerical and catagorical data"
   ]
  },
  {
   "cell_type": "code",
   "execution_count": 0,
   "metadata": {
    "application/vnd.databricks.v1+cell": {
     "cellMetadata": {
      "byteLimit": 2048000,
      "rowLimit": 10000
     },
     "inputWidgets": {},
     "nuid": "d7a90f0d-ecf4-4117-906d-9404061b5b61",
     "showTitle": false,
     "title": ""
    }
   },
   "outputs": [
    {
     "output_type": "stream",
     "name": "stdout",
     "output_type": "stream",
     "text": [
      "<class 'pyspark.pandas.frame.DataFrame'>\nInt64Index: 729322 entries, 0 to 729321\nData columns (total 11 columns):\n #   Column              Non-Null Count   Dtype         \n---  ------              --------------   -----         \n 0   id                  729322 non-null  object        \n 1   vendor_id           729322 non-null  int64         \n 2   pickup_datetime     729322 non-null  datetime64[ns]\n 3   dropoff_datetime    729322 non-null  datetime64[ns]\n 4   passenger_count     729322 non-null  int64         \n 5   pickup_longitude    729322 non-null  float64       \n 6   pickup_latitude     729322 non-null  float64       \n 7   dropoff_longitude   729322 non-null  float64       \n 8   dropoff_latitude    729322 non-null  float64       \n 9   store_and_fwd_flag  729322 non-null  object        \n 10  trip_duration       729322 non-null  int64         \ndtypes: datetime64[ns](2), float64(4), int64(3), object(2)None\n"
     ]
    },
    {
     "output_type": "display_data",
     "data": {
      "text/html": [
       "<style scoped>\n",
       "  .table-result-container {\n",
       "    max-height: 300px;\n",
       "    overflow: auto;\n",
       "  }\n",
       "  table, th, td {\n",
       "    border: 1px solid black;\n",
       "    border-collapse: collapse;\n",
       "  }\n",
       "  th, td {\n",
       "    padding: 5px;\n",
       "  }\n",
       "  th {\n",
       "    text-align: left;\n",
       "  }\n",
       "</style><div class='table-result-container'><table class='table-result'><thead style='background-color: white'><tr><th>id</th><th>vendor_id</th><th>pickup_datetime</th><th>dropoff_datetime</th><th>passenger_count</th><th>pickup_longitude</th><th>pickup_latitude</th><th>dropoff_longitude</th><th>dropoff_latitude</th><th>store_and_fwd_flag</th><th>trip_duration</th></tr></thead><tbody><tr><td>id1080784</td><td>2</td><td>2016-02-29T16:40:21Z</td><td>2016-02-29T16:47:01Z</td><td>1</td><td>-73.95391845703125</td><td>40.77887344360352</td><td>-73.96387481689453</td><td>40.77116394042969</td><td>N</td><td>400</td></tr><tr><td>id0889885</td><td>1</td><td>2016-03-11T23:35:37Z</td><td>2016-03-11T23:53:57Z</td><td>2</td><td>-73.98831176757811</td><td>40.73174285888672</td><td>-73.9947509765625</td><td>40.69493103027344</td><td>N</td><td>1100</td></tr><tr><td>id0857912</td><td>2</td><td>2016-02-21T17:59:33Z</td><td>2016-02-21T18:26:48Z</td><td>2</td><td>-73.997314453125</td><td>40.721458435058594</td><td>-73.94802856445312</td><td>40.774917602539055</td><td>N</td><td>1635</td></tr><tr><td>id3744273</td><td>2</td><td>2016-01-05T09:44:31Z</td><td>2016-01-05T10:03:32Z</td><td>6</td><td>-73.961669921875</td><td>40.75971984863281</td><td>-73.95677947998048</td><td>40.780628204345696</td><td>N</td><td>1141</td></tr><tr><td>id0232939</td><td>1</td><td>2016-02-17T06:42:23Z</td><td>2016-02-17T06:56:31Z</td><td>1</td><td>-74.01712036132812</td><td>40.70846939086913</td><td>-73.9881820678711</td><td>40.740631103515625</td><td>N</td><td>848</td></tr></tbody></table></div>"
      ]
     },
     "metadata": {
      "application/vnd.databricks.v1+output": {
       "addedWidgets": {},
       "aggData": [],
       "aggError": "",
       "aggOverflow": false,
       "aggSchema": [],
       "aggSeriesLimitReached": false,
       "aggType": "",
       "arguments": {},
       "columnCustomDisplayInfos": {},
       "data": [
        [
         "id1080784",
         2,
         "2016-02-29T16:40:21Z",
         "2016-02-29T16:47:01Z",
         1,
         -73.95391845703125,
         40.77887344360352,
         -73.96387481689453,
         40.77116394042969,
         "N",
         400
        ],
        [
         "id0889885",
         1,
         "2016-03-11T23:35:37Z",
         "2016-03-11T23:53:57Z",
         2,
         -73.98831176757811,
         40.73174285888672,
         -73.9947509765625,
         40.69493103027344,
         "N",
         1100
        ],
        [
         "id0857912",
         2,
         "2016-02-21T17:59:33Z",
         "2016-02-21T18:26:48Z",
         2,
         -73.997314453125,
         40.721458435058594,
         -73.94802856445312,
         40.774917602539055,
         "N",
         1635
        ],
        [
         "id3744273",
         2,
         "2016-01-05T09:44:31Z",
         "2016-01-05T10:03:32Z",
         6,
         -73.961669921875,
         40.75971984863281,
         -73.95677947998048,
         40.780628204345696,
         "N",
         1141
        ],
        [
         "id0232939",
         1,
         "2016-02-17T06:42:23Z",
         "2016-02-17T06:56:31Z",
         1,
         -74.01712036132812,
         40.70846939086913,
         -73.9881820678711,
         40.740631103515625,
         "N",
         848
        ]
       ],
       "datasetInfos": [],
       "dbfsResultPath": null,
       "isJsonSchema": true,
       "metadata": {},
       "overflow": false,
       "plotOptions": {
        "customPlotOptions": {},
        "displayType": "table",
        "pivotAggregation": null,
        "pivotColumns": null,
        "xColumns": null,
        "yColumns": null
       },
       "removedWidgets": [],
       "schema": [
        {
         "metadata": "{}",
         "name": "id",
         "type": "\"string\""
        },
        {
         "metadata": "{}",
         "name": "vendor_id",
         "type": "\"long\""
        },
        {
         "metadata": "{}",
         "name": "pickup_datetime",
         "type": "\"timestamp\""
        },
        {
         "metadata": "{}",
         "name": "dropoff_datetime",
         "type": "\"timestamp\""
        },
        {
         "metadata": "{}",
         "name": "passenger_count",
         "type": "\"long\""
        },
        {
         "metadata": "{}",
         "name": "pickup_longitude",
         "type": "\"double\""
        },
        {
         "metadata": "{}",
         "name": "pickup_latitude",
         "type": "\"double\""
        },
        {
         "metadata": "{}",
         "name": "dropoff_longitude",
         "type": "\"double\""
        },
        {
         "metadata": "{}",
         "name": "dropoff_latitude",
         "type": "\"double\""
        },
        {
         "metadata": "{}",
         "name": "store_and_fwd_flag",
         "type": "\"string\""
        },
        {
         "metadata": "{}",
         "name": "trip_duration",
         "type": "\"long\""
        }
       ],
       "type": "table"
      }
     },
     "output_type": "display_data"
    },
    {
     "output_type": "stream",
     "name": "stdout",
     "output_type": "stream",
     "text": [
      "total missing values:  id                    0\nvendor_id             0\npickup_datetime       0\ndropoff_datetime      0\npassenger_count       0\npickup_longitude      0\npickup_latitude       0\ndropoff_longitude     0\ndropoff_latitude      0\nstore_and_fwd_flag    0\ntrip_duration         0\ndtype: int64\nduplicated value:  0\n"
     ]
    },
    {
     "output_type": "stream",
     "name": "stderr",
     "output_type": "stream",
     "text": [
      "/databricks/spark/python/pyspark/pandas/strings.py:1608: FutureWarning: Default value of `regex` will be changed to `False` instead of `True` in 4.0.0.\n  warnings.warn(\n"
     ]
    },
    {
     "output_type": "stream",
     "name": "stdout",
     "output_type": "stream",
     "text": [
      "<class 'pyspark.pandas.frame.DataFrame'>\nInt64Index: 729322 entries, 0 to 729321\nData columns (total 12 columns):\n #   Column              Non-Null Count   Dtype      \n---  ------              --------------   -----      \n 0   id                  729322 non-null  int64      \n 1   vendor_id           729322 non-null  <U0        \n 2   pickup_datetime     729322 non-null  datetime64 \n 3   dropoff_datetime    729322 non-null  datetime64 \n 4   passenger_count     729322 non-null  int64      \n 5   pickup_longitude    729322 non-null  float64    \n 6   pickup_latitude     729322 non-null  float64    \n 7   dropoff_longitude   729322 non-null  float64    \n 8   dropoff_latitude    729322 non-null  float64    \n 9   store_and_fwd_flag  729322 non-null  <U0        \n 10  trip_duration       729322 non-null  timedelta64\n 11  trip_duration_min   729322 non-null  int64      \ndtypes: datetime64(2), float64(4), int64(3), str(2), timedelta64(1)None\n"
     ]
    },
    {
     "output_type": "execute_result",
     "data": {
      "text/html": [
       "<div>\n",
       "<style scoped>\n",
       "    .dataframe tbody tr th:only-of-type {\n",
       "        vertical-align: middle;\n",
       "    }\n",
       "\n",
       "    .dataframe tbody tr th {\n",
       "        vertical-align: top;\n",
       "    }\n",
       "\n",
       "    .dataframe thead th {\n",
       "        text-align: right;\n",
       "    }\n",
       "</style>\n",
       "<table border=\"1\" class=\"dataframe\">\n",
       "  <thead>\n",
       "    <tr style=\"text-align: right;\">\n",
       "      <th></th>\n",
       "      <th>id</th>\n",
       "      <th>vendor_id</th>\n",
       "      <th>pickup_datetime</th>\n",
       "      <th>dropoff_datetime</th>\n",
       "      <th>passenger_count</th>\n",
       "      <th>pickup_longitude</th>\n",
       "      <th>pickup_latitude</th>\n",
       "      <th>dropoff_longitude</th>\n",
       "      <th>dropoff_latitude</th>\n",
       "      <th>store_and_fwd_flag</th>\n",
       "      <th>trip_duration</th>\n",
       "      <th>trip_duration_min</th>\n",
       "    </tr>\n",
       "  </thead>\n",
       "  <tbody>\n",
       "    <tr>\n",
       "      <th>0</th>\n",
       "      <td>1080784</td>\n",
       "      <td>2</td>\n",
       "      <td>2016-02-29 16:40:21</td>\n",
       "      <td>2016-02-29 16:47:01</td>\n",
       "      <td>1</td>\n",
       "      <td>-73.953918</td>\n",
       "      <td>40.778873</td>\n",
       "      <td>-73.963875</td>\n",
       "      <td>40.771164</td>\n",
       "      <td>N</td>\n",
       "      <td>0 days 00:06:40</td>\n",
       "      <td>6</td>\n",
       "    </tr>\n",
       "    <tr>\n",
       "      <th>1</th>\n",
       "      <td>889885</td>\n",
       "      <td>1</td>\n",
       "      <td>2016-03-11 23:35:37</td>\n",
       "      <td>2016-03-11 23:53:57</td>\n",
       "      <td>2</td>\n",
       "      <td>-73.988312</td>\n",
       "      <td>40.731743</td>\n",
       "      <td>-73.994751</td>\n",
       "      <td>40.694931</td>\n",
       "      <td>N</td>\n",
       "      <td>0 days 00:18:20</td>\n",
       "      <td>18</td>\n",
       "    </tr>\n",
       "    <tr>\n",
       "      <th>2</th>\n",
       "      <td>857912</td>\n",
       "      <td>2</td>\n",
       "      <td>2016-02-21 17:59:33</td>\n",
       "      <td>2016-02-21 18:26:48</td>\n",
       "      <td>2</td>\n",
       "      <td>-73.997314</td>\n",
       "      <td>40.721458</td>\n",
       "      <td>-73.948029</td>\n",
       "      <td>40.774918</td>\n",
       "      <td>N</td>\n",
       "      <td>0 days 00:27:15</td>\n",
       "      <td>27</td>\n",
       "    </tr>\n",
       "    <tr>\n",
       "      <th>3</th>\n",
       "      <td>3744273</td>\n",
       "      <td>2</td>\n",
       "      <td>2016-01-05 09:44:31</td>\n",
       "      <td>2016-01-05 10:03:32</td>\n",
       "      <td>6</td>\n",
       "      <td>-73.961670</td>\n",
       "      <td>40.759720</td>\n",
       "      <td>-73.956779</td>\n",
       "      <td>40.780628</td>\n",
       "      <td>N</td>\n",
       "      <td>0 days 00:19:01</td>\n",
       "      <td>19</td>\n",
       "    </tr>\n",
       "    <tr>\n",
       "      <th>4</th>\n",
       "      <td>232939</td>\n",
       "      <td>1</td>\n",
       "      <td>2016-02-17 06:42:23</td>\n",
       "      <td>2016-02-17 06:56:31</td>\n",
       "      <td>1</td>\n",
       "      <td>-74.017120</td>\n",
       "      <td>40.708469</td>\n",
       "      <td>-73.988182</td>\n",
       "      <td>40.740631</td>\n",
       "      <td>N</td>\n",
       "      <td>0 days 00:14:08</td>\n",
       "      <td>14</td>\n",
       "    </tr>\n",
       "  </tbody>\n",
       "</table>\n",
       "</div>"
      ],
      "text/plain": [
       "        id vendor_id     pickup_datetime    dropoff_datetime  passenger_count  pickup_longitude  pickup_latitude  dropoff_longitude  dropoff_latitude store_and_fwd_flag   trip_duration  trip_duration_min\n",
       "0  1080784         2 2016-02-29 16:40:21 2016-02-29 16:47:01                1        -73.953918        40.778873         -73.963875         40.771164                  N 0 days 00:06:40                  6\n",
       "1   889885         1 2016-03-11 23:35:37 2016-03-11 23:53:57                2        -73.988312        40.731743         -73.994751         40.694931                  N 0 days 00:18:20                 18\n",
       "2   857912         2 2016-02-21 17:59:33 2016-02-21 18:26:48                2        -73.997314        40.721458         -73.948029         40.774918                  N 0 days 00:27:15                 27\n",
       "3  3744273         2 2016-01-05 09:44:31 2016-01-05 10:03:32                6        -73.961670        40.759720         -73.956779         40.780628                  N 0 days 00:19:01                 19\n",
       "4   232939         1 2016-02-17 06:42:23 2016-02-17 06:56:31                1        -74.017120        40.708469         -73.988182         40.740631                  N 0 days 00:14:08                 14"
      ]
     },
     "execution_count": 1,
     "metadata": {},
     "output_type": "execute_result"
    }
   ],
   "source": [
    "# Importing and inspect data --------------------------------------------------\n",
    "import pyspark.pandas as ps\n",
    "# s3_bucket_path = \"s3://nyc-taxi-buk/dataset/nyc_taxi_trip_duration.csv\"\n",
    "#sdf = ps.read_csv(s3_bucket_path)\n",
    "\n",
    "# Read the data into a DataFrame\n",
    "sdf = ps.read_table(\"tripduration.default.raw_data\")\n",
    "\n",
    "# Inspect data --------------------------------------------------\n",
    "print(sdf.info())\n",
    "display(sdf.head())\n",
    "\n",
    "# Inspect missing value issue --------------------------------------------------\n",
    "print('total missing values: ',sdf.isnull().sum())\n",
    "print('duplicated value: ', sdf.duplicated().sum()) # no duplicated value\n",
    "    # there is 11 features with 729322 rows with no null and duplicate value \n",
    "\n",
    "# Change data types  --------------------------------------------------\n",
    "sdf['id'] = sdf['id'].astype(str)\n",
    "sdf['id'] = sdf['id'].str.replace('^id', '')\n",
    "sdf['id'] = sdf['id'].astype('int64') # converting to integer\n",
    "sdf['store_and_fwd_flag'] = sdf['store_and_fwd_flag'].astype('str') # converting to category\n",
    "sdf['vendor_id'] = sdf['vendor_id'].astype('str') # converting to category \n",
    "sdf['pickup_datetime'] = ps.to_datetime(sdf['pickup_datetime'], format='%Y-%m-%d %H:%M:%S') # converting to datetime\n",
    "sdf['dropoff_datetime'] = ps.to_datetime(sdf['dropoff_datetime'], format='%Y-%m-%d %H:%M:%S')\n",
    "sdf['trip_duration_min'] = (sdf['trip_duration']/60).astype(int)\n",
    "sdf['trip_duration'] = ps.to_timedelta(sdf['trip_duration'], unit='s') # converting to timedelta     \n",
    "print(sdf.info())\n",
    "sdf.head()"
   ]
  },
  {
   "cell_type": "markdown",
   "metadata": {
    "application/vnd.databricks.v1+cell": {
     "cellMetadata": {
      "byteLimit": 2048000,
      "rowLimit": 10000
     },
     "inputWidgets": {},
     "nuid": "477cfb22-a892-44ef-8acf-0194656ec439",
     "showTitle": false,
     "title": ""
    }
   },
   "source": [
    "## 1.2 Feature selection and engineering \n",
    "*    Extract datetime date\n",
    "*    Extract locational data"
   ]
  },
  {
   "cell_type": "code",
   "execution_count": 0,
   "metadata": {
    "application/vnd.databricks.v1+cell": {
     "cellMetadata": {
      "byteLimit": 2048000,
      "rowLimit": 10000
     },
     "inputWidgets": {},
     "nuid": "9767e6f1-9118-4f67-aeb5-df95be0641d3",
     "showTitle": false,
     "title": ""
    }
   },
   "outputs": [
    {
     "output_type": "display_data",
     "data": {
      "text/html": [
       "<style scoped>\n",
       "  .table-result-container {\n",
       "    max-height: 300px;\n",
       "    overflow: auto;\n",
       "  }\n",
       "  table, th, td {\n",
       "    border: 1px solid black;\n",
       "    border-collapse: collapse;\n",
       "  }\n",
       "  th, td {\n",
       "    padding: 5px;\n",
       "  }\n",
       "  th {\n",
       "    text-align: left;\n",
       "  }\n",
       "</style><div class='table-result-container'><table class='table-result'><thead style='background-color: white'><tr><th>id</th><th>vendor_id</th><th>passenger_count</th><th>store_and_fwd_flag</th><th>trip_duration_min</th><th>day_of_year</th><th>week_of_year</th><th>month</th><th>day_of_week</th><th>hour_of_day</th></tr></thead><tbody><tr><td>1080784</td><td>2</td><td>1</td><td>N</td><td>6</td><td>60</td><td>9</td><td>2</td><td>0</td><td>16</td></tr><tr><td>889885</td><td>1</td><td>2</td><td>N</td><td>18</td><td>71</td><td>10</td><td>3</td><td>4</td><td>23</td></tr><tr><td>857912</td><td>2</td><td>2</td><td>N</td><td>27</td><td>52</td><td>7</td><td>2</td><td>6</td><td>17</td></tr><tr><td>3744273</td><td>2</td><td>6</td><td>N</td><td>19</td><td>5</td><td>1</td><td>1</td><td>1</td><td>9</td></tr><tr><td>232939</td><td>1</td><td>1</td><td>N</td><td>14</td><td>48</td><td>7</td><td>2</td><td>2</td><td>6</td></tr></tbody></table></div>"
      ]
     },
     "metadata": {
      "application/vnd.databricks.v1+output": {
       "addedWidgets": {},
       "aggData": [],
       "aggError": "",
       "aggOverflow": false,
       "aggSchema": [],
       "aggSeriesLimitReached": false,
       "aggType": "",
       "arguments": {},
       "columnCustomDisplayInfos": {},
       "data": [
        [
         1080784,
         "2",
         1,
         "N",
         6,
         60,
         9,
         2,
         0,
         16
        ],
        [
         889885,
         "1",
         2,
         "N",
         18,
         71,
         10,
         3,
         4,
         23
        ],
        [
         857912,
         "2",
         2,
         "N",
         27,
         52,
         7,
         2,
         6,
         17
        ],
        [
         3744273,
         "2",
         6,
         "N",
         19,
         5,
         1,
         1,
         1,
         9
        ],
        [
         232939,
         "1",
         1,
         "N",
         14,
         48,
         7,
         2,
         2,
         6
        ]
       ],
       "datasetInfos": [],
       "dbfsResultPath": null,
       "isJsonSchema": true,
       "metadata": {},
       "overflow": false,
       "plotOptions": {
        "customPlotOptions": {},
        "displayType": "table",
        "pivotAggregation": null,
        "pivotColumns": null,
        "xColumns": null,
        "yColumns": null
       },
       "removedWidgets": [],
       "schema": [
        {
         "metadata": "{}",
         "name": "id",
         "type": "\"long\""
        },
        {
         "metadata": "{}",
         "name": "vendor_id",
         "type": "\"string\""
        },
        {
         "metadata": "{}",
         "name": "passenger_count",
         "type": "\"long\""
        },
        {
         "metadata": "{}",
         "name": "store_and_fwd_flag",
         "type": "\"string\""
        },
        {
         "metadata": "{}",
         "name": "trip_duration_min",
         "type": "\"long\""
        },
        {
         "metadata": "{}",
         "name": "day_of_year",
         "type": "\"long\""
        },
        {
         "metadata": "{}",
         "name": "week_of_year",
         "type": "\"long\""
        },
        {
         "metadata": "{}",
         "name": "month",
         "type": "\"long\""
        },
        {
         "metadata": "{}",
         "name": "day_of_week",
         "type": "\"long\""
        },
        {
         "metadata": "{}",
         "name": "hour_of_day",
         "type": "\"long\""
        }
       ],
       "type": "table"
      }
     },
     "output_type": "display_data"
    },
    {
     "output_type": "stream",
     "name": "stdout",
     "output_type": "stream",
     "text": [
      "<class 'pyspark.pandas.frame.DataFrame'>\nInt64Index: 729322 entries, 0 to 729321\nData columns (total 10 columns):\n #   Column              Non-Null Count   Dtype\n---  ------              --------------   -----\n 0   id                  729322 non-null  int64\n 1   vendor_id           729322 non-null  <U0  \n 2   passenger_count     729322 non-null  int64\n 3   store_and_fwd_flag  729322 non-null  <U0  \n 4   trip_duration_min   729322 non-null  int64\n 5   day_of_year         729322 non-null  int64\n 6   week_of_year        729322 non-null  int64\n 7   month               729322 non-null  int64\n 8   day_of_week         729322 non-null  int64\n 9   hour_of_day         729322 non-null  int64\ndtypes: int64(8), str(2)"
     ]
    }
   ],
   "source": [
    "# Feature selection --------------------------------------\n",
    "# Extract dayofyear, weekofyear, month, dayofweek, hourofday (all data is from 2016)\n",
    "sdf['day_of_year'] = sdf['pickup_datetime'].dt.dayofyear # (1 to 366)\n",
    "sdf['week_of_year'] = sdf['pickup_datetime'].apply(lambda x: x.strftime('%W')).astype(int)\n",
    "sdf['month'] = sdf['pickup_datetime'].dt.month\n",
    "sdf['day_of_week'] = sdf['pickup_datetime'].dt.dayofweek  # Monday=0, Sunday=6\n",
    "sdf['hour_of_day'] = sdf['pickup_datetime'].dt.hour\n",
    "# we can drop datetime after extract trip_duration and features from pickup_datetime\n",
    "sdf = sdf.drop(['dropoff_datetime','pickup_datetime','pickup_longitude', 'pickup_latitude', 'dropoff_longitude', 'dropoff_latitude','trip_duration'], axis=1)\n",
    "display(sdf.head())\n",
    "sdf.info()"
   ]
  },
  {
   "cell_type": "code",
   "execution_count": 0,
   "metadata": {
    "application/vnd.databricks.v1+cell": {
     "cellMetadata": {
      "byteLimit": 2048000,
      "rowLimit": 10000
     },
     "inputWidgets": {},
     "nuid": "6969cc17-0a12-4a7e-b865-4927dbd7c56f",
     "showTitle": false,
     "title": ""
    }
   },
   "outputs": [
    {
     "output_type": "stream",
     "name": "stdout",
     "output_type": "stream",
     "text": [
      "<class 'pyspark.pandas.frame.DataFrame'>\nInt64Index: 729322 entries, 0 to 729321\nData columns (total 6 columns):\n #   Column             Non-Null Count   Dtype  \n---  ------             --------------   -----  \n 0   id                 729322 non-null  int64  \n 1   pickup_longitude   729322 non-null  float64\n 2   pickup_latitude    729322 non-null  float64\n 3   dropoff_longitude  729322 non-null  float64\n 4   dropoff_latitude   729322 non-null  float64\n 5   distance_km        729322 non-null  float64\ndtypes: float64(5), int64(1)"
     ]
    },
    {
     "output_type": "display_data",
     "data": {
      "application/vnd.databricks.v1+h3_hint": "",
      "text/plain": []
     },
     "metadata": {},
     "output_type": "display_data"
    }
   ],
   "source": [
    "import geopandas as gpd\n",
    "\n",
    "geo_col = ['id', 'pickup_longitude', 'pickup_latitude','dropoff_longitude', 'dropoff_latitude']\n",
    "geo_sp = spark.read.table(\"tripduration.default.raw_data\")\n",
    "\n",
    "'''geo_sp = (spark.read.format(\"csv\")\n",
    "  .option(\"header\", \"true\")\n",
    "  .option(\"inferSchema\", \"true\")\n",
    "  .load(\"raw_data\")) #sdf.loc[:, geo_col]\n",
    "'''\n",
    "\n",
    "#filter only geo columns\n",
    "geo_sp = geo_sp.select('id', 'pickup_longitude', 'pickup_latitude','dropoff_longitude', 'dropoff_latitude')\n",
    "geo_df = geo_sp.toPandas()\n",
    "\n",
    "geo_df = gpd.GeoDataFrame(geo_df)\n",
    "geo_df['geometry_pickup'] = gpd.points_from_xy(geo_df.pickup_longitude, geo_df.pickup_latitude)\n",
    "geo_df['geometry_dropoff'] = gpd.points_from_xy(geo_df.dropoff_longitude, geo_df.dropoff_latitude)\n",
    "gdf_pickup = gpd.GeoDataFrame(geometry=geo_df['geometry_pickup'], crs=\"EPSG:4326\") \n",
    "gdf_dropoff = gpd.GeoDataFrame(geometry=geo_df['geometry_dropoff'], crs=\"EPSG:4326\")\n",
    "\n",
    "# Project to World Mercator for metric distance calculations\n",
    "gdf_pickup_metric = gdf_pickup.to_crs(\"EPSG:3395\")\n",
    "gdf_dropoff_metric = gdf_dropoff.to_crs(\"EPSG:3395\")\n",
    "\n",
    "# Calculate distances in meters\n",
    "geo_df['distance_km'] = (gdf_pickup_metric.distance(gdf_dropoff_metric.geometry))/1000\n",
    "geo_df = geo_df.drop(['geometry_pickup','geometry_dropoff'], axis=1)\n",
    "\n",
    "geo_df['id'] = geo_df['id'].str.extract('(\\d+)') # extract id from the trip id's number \n",
    "geo_df['id'] = geo_df['id'].astype('int64')\n",
    "\n",
    "# conver to pyspark.pandas\n",
    "geo_sdf = ps.from_pandas(geo_df)\n",
    "geo_sdf.info()"
   ]
  },
  {
   "cell_type": "code",
   "execution_count": 0,
   "metadata": {
    "application/vnd.databricks.v1+cell": {
     "cellMetadata": {
      "byteLimit": 2048000,
      "rowLimit": 10000
     },
     "inputWidgets": {},
     "nuid": "7044b7e0-73f1-42ab-aa0f-9e9bf91580ab",
     "showTitle": false,
     "title": ""
    }
   },
   "outputs": [
    {
     "output_type": "display_data",
     "data": {
      "text/html": [
       "<style scoped>\n",
       "  .table-result-container {\n",
       "    max-height: 300px;\n",
       "    overflow: auto;\n",
       "  }\n",
       "  table, th, td {\n",
       "    border: 1px solid black;\n",
       "    border-collapse: collapse;\n",
       "  }\n",
       "  th, td {\n",
       "    padding: 5px;\n",
       "  }\n",
       "  th {\n",
       "    text-align: left;\n",
       "  }\n",
       "</style><div class='table-result-container'><table class='table-result'><thead style='background-color: white'><tr><th>id</th><th>vendor_id</th><th>passenger_count</th><th>store_and_fwd_flag</th><th>trip_duration_min</th><th>day_of_year</th><th>week_of_year</th><th>month</th><th>day_of_week</th><th>hour_of_day</th><th>pickup_longitude</th><th>pickup_latitude</th><th>dropoff_longitude</th><th>dropoff_latitude</th><th>distance_km</th></tr></thead><tbody><tr><td>1</td><td>2</td><td>1</td><td>N</td><td>18</td><td>166</td><td>24</td><td>6</td><td>1</td><td>10</td><td>-74.01392364501955</td><td>40.71392440795898</td><td>-73.97164916992188</td><td>40.746406555175774</td><td>6.6887516432808205</td></tr><tr><td>5</td><td>2</td><td>1</td><td>N</td><td>6</td><td>116</td><td>17</td><td>4</td><td>0</td><td>9</td><td>-73.95310974121094</td><td>40.79858016967773</td><td>-73.96817779541014</td><td>40.800270080566406</td><td>1.6955368360772058</td></tr><tr><td>33</td><td>2</td><td>1</td><td>N</td><td>5</td><td>166</td><td>24</td><td>6</td><td>1</td><td>7</td><td>-73.9623794555664</td><td>40.75550842285156</td><td>-73.97299194335938</td><td>40.74930953979492</td><td>1.489646224884472</td></tr><tr><td>34</td><td>2</td><td>1</td><td>N</td><td>9</td><td>164</td><td>23</td><td>6</td><td>6</td><td>18</td><td>-73.98397827148438</td><td>40.76301956176758</td><td>-73.98597717285155</td><td>40.752288818359375</td><td>1.5866044365544167</td></tr><tr><td>43</td><td>2</td><td>1</td><td>N</td><td>20</td><td>178</td><td>25</td><td>6</td><td>6</td><td>0</td><td>-73.99559783935547</td><td>40.72676849365234</td><td>-73.94813537597656</td><td>40.789642333984375</td><td>10.613087703414163</td></tr></tbody></table></div>"
      ]
     },
     "metadata": {
      "application/vnd.databricks.v1+output": {
       "addedWidgets": {},
       "aggData": [],
       "aggError": "",
       "aggOverflow": false,
       "aggSchema": [],
       "aggSeriesLimitReached": false,
       "aggType": "",
       "arguments": {},
       "columnCustomDisplayInfos": {},
       "data": [
        [
         1,
         "2",
         1,
         "N",
         18,
         166,
         24,
         6,
         1,
         10,
         -74.01392364501955,
         40.71392440795898,
         -73.97164916992188,
         40.746406555175774,
         6.6887516432808205
        ],
        [
         5,
         "2",
         1,
         "N",
         6,
         116,
         17,
         4,
         0,
         9,
         -73.95310974121094,
         40.79858016967773,
         -73.96817779541014,
         40.800270080566406,
         1.6955368360772058
        ],
        [
         33,
         "2",
         1,
         "N",
         5,
         166,
         24,
         6,
         1,
         7,
         -73.9623794555664,
         40.75550842285156,
         -73.97299194335938,
         40.74930953979492,
         1.489646224884472
        ],
        [
         34,
         "2",
         1,
         "N",
         9,
         164,
         23,
         6,
         6,
         18,
         -73.98397827148438,
         40.76301956176758,
         -73.98597717285155,
         40.752288818359375,
         1.5866044365544167
        ],
        [
         43,
         "2",
         1,
         "N",
         20,
         178,
         25,
         6,
         6,
         0,
         -73.99559783935547,
         40.72676849365234,
         -73.94813537597656,
         40.789642333984375,
         10.613087703414163
        ]
       ],
       "datasetInfos": [],
       "dbfsResultPath": null,
       "isJsonSchema": true,
       "metadata": {},
       "overflow": false,
       "plotOptions": {
        "customPlotOptions": {},
        "displayType": "table",
        "pivotAggregation": null,
        "pivotColumns": null,
        "xColumns": null,
        "yColumns": null
       },
       "removedWidgets": [],
       "schema": [
        {
         "metadata": "{}",
         "name": "id",
         "type": "\"long\""
        },
        {
         "metadata": "{}",
         "name": "vendor_id",
         "type": "\"string\""
        },
        {
         "metadata": "{}",
         "name": "passenger_count",
         "type": "\"long\""
        },
        {
         "metadata": "{}",
         "name": "store_and_fwd_flag",
         "type": "\"string\""
        },
        {
         "metadata": "{}",
         "name": "trip_duration_min",
         "type": "\"long\""
        },
        {
         "metadata": "{}",
         "name": "day_of_year",
         "type": "\"long\""
        },
        {
         "metadata": "{}",
         "name": "week_of_year",
         "type": "\"long\""
        },
        {
         "metadata": "{}",
         "name": "month",
         "type": "\"long\""
        },
        {
         "metadata": "{}",
         "name": "day_of_week",
         "type": "\"long\""
        },
        {
         "metadata": "{}",
         "name": "hour_of_day",
         "type": "\"long\""
        },
        {
         "metadata": "{}",
         "name": "pickup_longitude",
         "type": "\"double\""
        },
        {
         "metadata": "{}",
         "name": "pickup_latitude",
         "type": "\"double\""
        },
        {
         "metadata": "{}",
         "name": "dropoff_longitude",
         "type": "\"double\""
        },
        {
         "metadata": "{}",
         "name": "dropoff_latitude",
         "type": "\"double\""
        },
        {
         "metadata": "{}",
         "name": "distance_km",
         "type": "\"double\""
        }
       ],
       "type": "table"
      }
     },
     "output_type": "display_data"
    },
    {
     "output_type": "stream",
     "name": "stdout",
     "output_type": "stream",
     "text": [
      "<class 'pyspark.pandas.frame.DataFrame'>\nInt64Index: 729322 entries, 0 to 729321\nData columns (total 15 columns):\n #   Column              Non-Null Count   Dtype  \n---  ------              --------------   -----  \n 0   id                  729322 non-null  int64  \n 1   vendor_id           729322 non-null  object \n 2   passenger_count     729322 non-null  int64  \n 3   store_and_fwd_flag  729322 non-null  object \n 4   trip_duration_min   729322 non-null  int64  \n 5   day_of_year         729322 non-null  int64  \n 6   week_of_year        729322 non-null  int64  \n 7   month               729322 non-null  int64  \n 8   day_of_week         729322 non-null  int64  \n 9   hour_of_day         729322 non-null  int64  \n 10  pickup_longitude    729322 non-null  float64\n 11  pickup_latitude     729322 non-null  float64\n 12  dropoff_longitude   729322 non-null  float64\n 13  dropoff_latitude    729322 non-null  float64\n 14  distance_km         729322 non-null  float64\ndtypes: float64(5), int64(8), object(2)"
     ]
    }
   ],
   "source": [
    "# Join table and save table\n",
    "sdf_join = sdf.merge(geo_sdf, on='id', how='inner')\n",
    "display(sdf_join.head())\n",
    "sdf_join.info()"
   ]
  },
  {
   "cell_type": "code",
   "execution_count": 0,
   "metadata": {
    "application/vnd.databricks.v1+cell": {
     "cellMetadata": {
      "byteLimit": 2048000,
      "rowLimit": 10000
     },
     "inputWidgets": {},
     "nuid": "929d5178-281b-4120-9507-ee7cc498b092",
     "showTitle": false,
     "title": ""
    }
   },
   "outputs": [
    {
     "output_type": "display_data",
     "data": {
      "text/html": [
       "<style scoped>\n",
       "  .table-result-container {\n",
       "    max-height: 300px;\n",
       "    overflow: auto;\n",
       "  }\n",
       "  table, th, td {\n",
       "    border: 1px solid black;\n",
       "    border-collapse: collapse;\n",
       "  }\n",
       "  th, td {\n",
       "    padding: 5px;\n",
       "  }\n",
       "  th {\n",
       "    text-align: left;\n",
       "  }\n",
       "</style><div class='table-result-container'><table class='table-result'><thead style='background-color: white'><tr><th>id</th><th>vendor_id</th><th>passenger_count</th><th>store_and_fwd_flag</th><th>trip_duration_min</th><th>day_of_year</th><th>week_of_year</th><th>month</th><th>day_of_week</th><th>hour_of_day</th><th>pickup_longitude</th><th>pickup_latitude</th><th>dropoff_longitude</th><th>dropoff_latitude</th><th>distance_km</th></tr></thead><tbody><tr><td>1</td><td>2</td><td>1</td><td>N</td><td>18</td><td>166</td><td>24</td><td>6</td><td>1</td><td>10</td><td>-74.01392364501955</td><td>40.71392440795898</td><td>-73.97164916992188</td><td>40.746406555175774</td><td>6.6887516432808205</td></tr><tr><td>3</td><td>2</td><td>5</td><td>N</td><td>17</td><td>76</td><td>11</td><td>3</td><td>2</td><td>10</td><td>-73.99075317382812</td><td>40.7547607421875</td><td>-74.00711822509766</td><td>40.74153137207031</td><td>2.658670774502534</td></tr><tr><td>5</td><td>2</td><td>1</td><td>N</td><td>6</td><td>116</td><td>17</td><td>4</td><td>0</td><td>9</td><td>-73.95310974121094</td><td>40.79858016967773</td><td>-73.96817779541014</td><td>40.800270080566406</td><td>1.6955368360772058</td></tr><tr><td>8</td><td>1</td><td>1</td><td>N</td><td>5</td><td>167</td><td>24</td><td>6</td><td>2</td><td>9</td><td>-74.00962829589844</td><td>40.72476196289063</td><td>-74.015869140625</td><td>40.71548461914063</td><td>1.5248379676343982</td></tr><tr><td>16</td><td>1</td><td>1</td><td>N</td><td>6</td><td>89</td><td>13</td><td>3</td><td>1</td><td>16</td><td>-73.96031951904298</td><td>40.770320892333984</td><td>-73.94622039794923</td><td>40.77273559570313</td><td>1.6088401819560962</td></tr></tbody></table></div>"
      ]
     },
     "metadata": {
      "application/vnd.databricks.v1+output": {
       "addedWidgets": {},
       "aggData": [],
       "aggError": "",
       "aggOverflow": false,
       "aggSchema": [],
       "aggSeriesLimitReached": false,
       "aggType": "",
       "arguments": {},
       "columnCustomDisplayInfos": {},
       "data": [
        [
         1,
         "2",
         1,
         "N",
         18,
         166,
         24,
         6,
         1,
         10,
         -74.01392364501955,
         40.71392440795898,
         -73.97164916992188,
         40.746406555175774,
         6.6887516432808205
        ],
        [
         3,
         "2",
         5,
         "N",
         17,
         76,
         11,
         3,
         2,
         10,
         -73.99075317382812,
         40.7547607421875,
         -74.00711822509766,
         40.74153137207031,
         2.658670774502534
        ],
        [
         5,
         "2",
         1,
         "N",
         6,
         116,
         17,
         4,
         0,
         9,
         -73.95310974121094,
         40.79858016967773,
         -73.96817779541014,
         40.800270080566406,
         1.6955368360772058
        ],
        [
         8,
         "1",
         1,
         "N",
         5,
         167,
         24,
         6,
         2,
         9,
         -74.00962829589844,
         40.72476196289063,
         -74.015869140625,
         40.71548461914063,
         1.5248379676343982
        ],
        [
         16,
         "1",
         1,
         "N",
         6,
         89,
         13,
         3,
         1,
         16,
         -73.96031951904298,
         40.770320892333984,
         -73.94622039794923,
         40.77273559570313,
         1.6088401819560962
        ]
       ],
       "datasetInfos": [],
       "dbfsResultPath": null,
       "isJsonSchema": true,
       "metadata": {},
       "overflow": false,
       "plotOptions": {
        "customPlotOptions": {},
        "displayType": "table",
        "pivotAggregation": null,
        "pivotColumns": null,
        "xColumns": null,
        "yColumns": null
       },
       "removedWidgets": [],
       "schema": [
        {
         "metadata": "{}",
         "name": "id",
         "type": "\"long\""
        },
        {
         "metadata": "{}",
         "name": "vendor_id",
         "type": "\"string\""
        },
        {
         "metadata": "{}",
         "name": "passenger_count",
         "type": "\"long\""
        },
        {
         "metadata": "{}",
         "name": "store_and_fwd_flag",
         "type": "\"string\""
        },
        {
         "metadata": "{}",
         "name": "trip_duration_min",
         "type": "\"long\""
        },
        {
         "metadata": "{}",
         "name": "day_of_year",
         "type": "\"long\""
        },
        {
         "metadata": "{}",
         "name": "week_of_year",
         "type": "\"long\""
        },
        {
         "metadata": "{}",
         "name": "month",
         "type": "\"long\""
        },
        {
         "metadata": "{}",
         "name": "day_of_week",
         "type": "\"long\""
        },
        {
         "metadata": "{}",
         "name": "hour_of_day",
         "type": "\"long\""
        },
        {
         "metadata": "{}",
         "name": "pickup_longitude",
         "type": "\"double\""
        },
        {
         "metadata": "{}",
         "name": "pickup_latitude",
         "type": "\"double\""
        },
        {
         "metadata": "{}",
         "name": "dropoff_longitude",
         "type": "\"double\""
        },
        {
         "metadata": "{}",
         "name": "dropoff_latitude",
         "type": "\"double\""
        },
        {
         "metadata": "{}",
         "name": "distance_km",
         "type": "\"double\""
        }
       ],
       "type": "table"
      }
     },
     "output_type": "display_data"
    },
    {
     "output_type": "stream",
     "name": "stdout",
     "output_type": "stream",
     "text": [
      "<class 'pyspark.pandas.frame.DataFrame'>\nInt64Index: 729322 entries, 0 to 729321\nData columns (total 15 columns):\n #   Column              Non-Null Count   Dtype  \n---  ------              --------------   -----  \n 0   id                  729322 non-null  int64  \n 1   vendor_id           729322 non-null  string \n 2   passenger_count     729322 non-null  int64  \n 3   store_and_fwd_flag  729322 non-null  string \n 4   trip_duration_min   729322 non-null  int64  \n 5   day_of_year         729322 non-null  int64  \n 6   week_of_year        729322 non-null  int64  \n 7   month               729322 non-null  int64  \n 8   day_of_week         729322 non-null  int64  \n 9   hour_of_day         729322 non-null  int64  \n 10  pickup_longitude    729322 non-null  float64\n 11  pickup_latitude     729322 non-null  float64\n 12  dropoff_longitude   729322 non-null  float64\n 13  dropoff_latitude    729322 non-null  float64\n 14  distance_km         729322 non-null  float64\ndtypes: float64(5), int64(8), string(2)"
     ]
    }
   ],
   "source": [
    "sdf_join['vendor_id'] = sdf_join['vendor_id'].astype('string')\n",
    "sdf_join['store_and_fwd_flag'] = sdf_join['store_and_fwd_flag'].astype('string')\n",
    "display(sdf_join.head())\n",
    "sdf_join.info()\n"
   ]
  },
  {
   "cell_type": "code",
   "execution_count": 0,
   "metadata": {
    "application/vnd.databricks.v1+cell": {
     "cellMetadata": {
      "byteLimit": 2048000,
      "rowLimit": 10000
     },
     "inputWidgets": {},
     "nuid": "1c322e3e-6747-4552-b8fd-ab946aee353e",
     "showTitle": false,
     "title": ""
    }
   },
   "outputs": [],
   "source": [
    "spark_df = sdf_join.to_spark()\n",
    "spark_df.write.format(\"delta\").saveAsTable(\"tripduration.default.process_data\") #.mode(\"overwrite\")"
   ]
  }
 ],
 "metadata": {
  "application/vnd.databricks.v1+notebook": {
   "dashboards": [],
   "language": "python",
   "notebookMetadata": {
    "pythonIndentUnit": 4
   },
   "notebookName": "1_prep",
   "widgets": {}
  }
 },
 "nbformat": 4,
 "nbformat_minor": 0
}
